{
  "cells": [
    {
      "cell_type": "markdown",
      "metadata": {
        "id": "view-in-github",
        "colab_type": "text"
      },
      "source": [
        "<a href=\"https://colab.research.google.com/github/Kaylazagelbaum/Module4_Kayla_Zagelbaum/blob/main/Loops_While_For_Questions.ipynb\" target=\"_parent\"><img src=\"https://colab.research.google.com/assets/colab-badge.svg\" alt=\"Open In Colab\"/></a>"
      ]
    },
    {
      "cell_type": "markdown",
      "id": "7d25b115",
      "metadata": {
        "id": "7d25b115"
      },
      "source": [
        "\n",
        "# While & For Mastery — Syntax, Patterns, and Programs\n",
        "\n",
        "**Name:** _Kayla_Zagelbaum_\n",
        "**Course:** _MCON 141_  \n",
        "**Date:** _2025-10-5_\n",
        "\n",
        "**Learning goals**\n",
        "- Reintroduce the **syntax** and core **patterns** for `while` and `for` loops.\n",
        "- Use loops with **decision structures** (`if/elif/else`) and **`try/except`** for input validation.\n",
        "- Write non-trivial programs that require **reasoning**, not just template filling.\n",
        "- Practice **PEP 8** style: naming, whitespace, docstrings, and helpful comments. - SO PLEASE DO PEP 8 ASSIGNMENT FIRST\n",
        "\n",
        "\n",
        "**IDE usage**\n",
        "- Feel free to work within an IDE (PyCharm or IDLE) if you feel more comfortable, copying and pasting the answers here"
      ]
    },
    {
      "cell_type": "markdown",
      "source": [],
      "metadata": {
        "id": "co4zaM_oHdBi"
      },
      "id": "co4zaM_oHdBi"
    },
    {
      "cell_type": "markdown",
      "id": "02124153",
      "metadata": {
        "id": "02124153"
      },
      "source": [
        "\n",
        "## Part 0 — Quick Reference (Read & Run)\n",
        "\n",
        "### `for` loop (iterate over a sequence)\n",
        "```python\n",
        "for item in iterable:\n",
        "    # do something with item\n",
        "```\n",
        "\n",
        "### `while` loop (repeat until a condition changes)\n",
        "```python\n",
        "while condition:\n",
        "    # body\n",
        "```\n",
        "\n",
        "### Useful keywords\n",
        "- `break` — exit the nearest loop immediately  \n",
        "- `continue` — skip to next iteration  \n",
        "- `else` on loops — runs if the loop **didn't** `break`\n"
      ]
    },
    {
      "cell_type": "markdown",
      "id": "884708c5",
      "metadata": {
        "id": "884708c5"
      },
      "source": [
        "\n",
        "## Demo 1 — `for` Loop Fundamentals\n",
        "- Iterating lists/strings\n",
        "- Using `range(start, stop, step)`\n",
        "- Tracking indices with `enumerate`\n"
      ]
    },
    {
      "cell_type": "code",
      "execution_count": 1,
      "id": "a9210b06",
      "metadata": {
        "id": "a9210b06",
        "colab": {
          "base_uri": "https://localhost:8080/"
        },
        "outputId": "6b80fb3f-31ba-42d7-bad5-b0a36cdc8699"
      },
      "outputs": [
        {
          "output_type": "stream",
          "name": "stdout",
          "text": [
            "KOL\n",
            "NIDRE\n",
            "TEFILAH\n",
            "---\n",
            "2 4 6 8 10 \n",
            "---\n",
            "0: kol\n",
            "1: nidre\n",
            "2: tefilah\n"
          ]
        }
      ],
      "source": [
        "\n",
        "words = [\"kol\", \"nidre\", \"tefilah\"]\n",
        "\n",
        "# Basic iteration\n",
        "for w in words:\n",
        "    print(w.upper())\n",
        "\n",
        "print(\"---\")\n",
        "\n",
        "# Ranges\n",
        "for k in range(2, 11, 2):\n",
        "    print(k, end=\" \")\n",
        "print(\"\\n---\")\n",
        "\n",
        "# Enumerate for index + value\n",
        "for i, w in enumerate(words):\n",
        "    print(f\"{i}: {w}\")\n"
      ]
    },
    {
      "cell_type": "markdown",
      "id": "872c060a",
      "metadata": {
        "id": "872c060a"
      },
      "source": [
        "\n",
        "## Demo 2 — `while` Loop Fundamentals\n",
        "- Sentinel loops (stop when user types `done`)\n",
        "- Guarded updates to prevent infinite loops\n"
      ]
    },
    {
      "cell_type": "code",
      "execution_count": 2,
      "id": "a16ab540",
      "metadata": {
        "id": "a16ab540",
        "colab": {
          "base_uri": "https://localhost:8080/"
        },
        "outputId": "7c4a7fdb-5187-4994-aae1-78ea16fd29f8"
      },
      "outputs": [
        {
          "output_type": "stream",
          "name": "stdout",
          "text": [
            "Enter a number (or 'done'): 4\n",
            "Enter a number (or 'done'): 2\n",
            "Enter a number (or 'done'): 6\n",
            "Enter a number (or 'done'): 3\n",
            "Enter a number (or 'done'): done\n",
            "Average: 3.75\n"
          ]
        }
      ],
      "source": [
        "4\n",
        "# Sentinel-controlled input loop\n",
        "# Type numbers; type 'done' to stop. We sum only valid numbers.\n",
        "total = 0.0\n",
        "count = 0\n",
        "\n",
        "while True:\n",
        "    raw = input(\"Enter a number (or 'done'): \").strip().lower()\n",
        "    if raw == \"done\":\n",
        "        break\n",
        "    try:\n",
        "        num = float(raw)\n",
        "    except ValueError:\n",
        "        print(\"Not a number — try again.\")\n",
        "        continue\n",
        "    total += num\n",
        "    count += 1\n",
        "\n",
        "if count > 0:\n",
        "    print(\"Average:\", total / count)\n",
        "else:\n",
        "    print(\"No numbers entered.\")\n"
      ]
    },
    {
      "cell_type": "markdown",
      "id": "4f729477",
      "metadata": {
        "id": "4f729477"
      },
      "source": [
        "\n",
        "## Demo 3 — Try/Except + Decisions in Loops\n",
        "- Validate input in a loop\n",
        "- Use `if/elif/else` for branching behavior\n"
      ]
    },
    {
      "cell_type": "code",
      "execution_count": 3,
      "id": "ef5f1557",
      "metadata": {
        "id": "ef5f1557",
        "colab": {
          "base_uri": "https://localhost:8080/"
        },
        "outputId": "ddedfe2d-9cf2-4e12-ced2-054ef089d4c5"
      },
      "outputs": [
        {
          "output_type": "stream",
          "name": "stdout",
          "text": [
            "Pick an integer from 1 to 10: 5\n",
            "Thanks! You chose: 5\n"
          ]
        }
      ],
      "source": [
        "\n",
        "# Ask for an integer 1..10 with limited attempts.\n",
        "MAX_ATTEMPTS = 3\n",
        "attempts = 0\n",
        "value = None\n",
        "\n",
        "while attempts < MAX_ATTEMPTS:\n",
        "    try:\n",
        "        guess = int(input(\"Pick an integer from 1 to 10: \"))\n",
        "    except ValueError:\n",
        "        print(\"Please enter an integer.\")\n",
        "        attempts += 1\n",
        "        continue\n",
        "\n",
        "    if 1 <= guess <= 10:\n",
        "        value = guess\n",
        "        print(\"Thanks! You chose:\", value)\n",
        "        break\n",
        "    else:\n",
        "        print(\"Out of range.\")\n",
        "        attempts += 1\n",
        "\n",
        "if value is None:\n",
        "    print(\"No valid choice made. Exiting.\")\n"
      ]
    },
    {
      "cell_type": "markdown",
      "id": "4a3c313f",
      "metadata": {
        "id": "4a3c313f"
      },
      "source": [
        "\n",
        "## Patterns & Pitfalls\n",
        "- Prefer `for` for known collections/ranges; `while` for open-ended/state-driven loops.\n",
        "- Always **advance the loop state** in a `while` (avoid infinite loops).\n",
        "- Use **sentinels** like `'done'` to end user input.\n",
        "- Extract **helpers** with docstrings for single-purpose blocks.\n",
        "- Keep lines ≤ 79–99 characters and space around operators appropriately.\n"
      ]
    },
    {
      "cell_type": "markdown",
      "id": "05823ceb",
      "metadata": {
        "id": "05823ceb"
      },
      "source": [
        "\n",
        "## Program 1 — Running Statistics (Sentinel + Validation)\n",
        "\n",
        "**Write:** `stats_loop()` that repeatedly reads numbers from the user until they type `'done'`.  \n",
        "- Use `try/except` to validate input. Ignore invalid entries (warn and continue).  \n",
        "- Track **count, min, max, sum, average**.  \n",
        "- At the end, print a one-line summary like:  \n",
        "  `count=5 min=2.0 max=14.5 sum=33.0 avg=6.6`\n",
        "\n",
        "**Requirements:**\n",
        "- Use a **while loop** with a sentinel.\n",
        "- Use at least one **decision structure** (`if/elif/else`).\n",
        "- Follow **PEP 8** for naming, spacing, and comments.\n"
      ]
    },
    {
      "cell_type": "code",
      "execution_count": 14,
      "id": "bc2b0125",
      "metadata": {
        "id": "bc2b0125",
        "colab": {
          "base_uri": "https://localhost:8080/"
        },
        "outputId": "1fa3de0a-33a2-4dfb-dbf1-4746faec535d"
      },
      "outputs": [
        {
          "output_type": "stream",
          "name": "stdout",
          "text": [
            "Enter a number (or 'done'): 2\n",
            "Enter a number (or 'done'): 5\n",
            "Enter a number (or 'done'): 7\n",
            "Enter a number (or 'done'): done\n",
            "count=3 min=2.0 max=7.0 sum=14.0 avg=4.7\n"
          ]
        }
      ],
      "source": [
        "def stats_loop():\n",
        "  \"\"\"\n",
        "  Reads numbers from the user until they type 'done' and prints statistics.\n",
        "  Tracks count, min, max, sum, and average of valid numbers entered.\n",
        "  \"\"\"\n",
        "  count = 0\n",
        "  min_val = None\n",
        "  max_val = None\n",
        "  total_sum = 0.0\n",
        "\n",
        "  while True:\n",
        "    raw = input(\"Enter a number (or 'done'): \").strip().lower()\n",
        "\n",
        "    if raw == \"done\":\n",
        "      break\n",
        "\n",
        "    try:\n",
        "      num = float(raw)\n",
        "    except ValueError:\n",
        "      print(\"Not a number — try again.\")\n",
        "      continue\n",
        "\n",
        "    count += 1\n",
        "    total_sum += num\n",
        "\n",
        "    if count == 1:\n",
        "      min_val = num\n",
        "      max_val = num\n",
        "    else:\n",
        "      if num < min_val:\n",
        "        min_val = num\n",
        "      if num > max_val:\n",
        "        max_val = num\n",
        "\n",
        "  if count > 0:\n",
        "    average = total_sum / count\n",
        "    print(f\"count={count} min={min_val:.1f} max={max_val:.1f} sum={total_sum:.1f} avg={average:.1f}\")\n",
        "  else:\n",
        "    print(\"No numbers entered.\")\n",
        "\n",
        "stats_loop()"
      ]
    },
    {
      "cell_type": "markdown",
      "id": "cc1cb2cf",
      "metadata": {
        "id": "cc1cb2cf"
      },
      "source": [
        "\n",
        "## Program 2 — Password Attempts (Decisions + While)\n",
        "\n",
        "**Write:** `login_sim(correct_password: str, max_attempts: int = 3)`  \n",
        "- Prompt until the user enters the correct password or attempts are exhausted.  \n",
        "- Enforce a **policy**: at least 8 chars, contains a digit and a letter.  \n",
        "- Provide **specific feedback** for failures using `if/elif/else`.  \n",
        "- Use `try/except` only if you choose to add extra parsing; the main need here is decisions + while.\n",
        "\n",
        "**Tip:** Put the policy check in a **helper function** with a docstring.\n"
      ]
    },
    {
      "cell_type": "code",
      "execution_count": 16,
      "id": "cf5e5e3d",
      "metadata": {
        "id": "cf5e5e3d",
        "colab": {
          "base_uri": "https://localhost:8080/"
        },
        "outputId": "14c4f3f0-43b4-43a2-9c7f-276c79550c3a"
      },
      "outputs": [
        {
          "output_type": "stream",
          "name": "stdout",
          "text": [
            "Please enter your password: password987\n",
            "Correct password!\n"
          ]
        }
      ],
      "source": [
        "def login_sim(correct_password: str, max_attempts: int = 3):\n",
        "  \"\"\"\n",
        "  Simulates a login process with a maximum number of attempts and password policy.\n",
        "\n",
        "  Args:\n",
        "    correct_password: The correct password to match.\n",
        "    max_attempts: The maximum number of login attempts allowed.\n",
        "  \"\"\"\n",
        "  attempts = 0\n",
        "\n",
        "  def policy_check(password):\n",
        "    \"\"\"\n",
        "    Checks if the password meets the policy requirements.\n",
        "\n",
        "    Args:\n",
        "      password: The password to check.\n",
        "\n",
        "    Returns:\n",
        "      True if the password meets the policy, False otherwise.\n",
        "    \"\"\"\n",
        "    if len(password) < 8:\n",
        "      print(\"Your password must be at least 8 characters long.\")\n",
        "      return False\n",
        "    if not any(char.isdigit() for char in password):\n",
        "      print(\"Your password must contain at least one digit.\")\n",
        "      return False\n",
        "    if not any(char.isalpha() for char in password):\n",
        "      print(\"Your password must contain at least one letter.\")\n",
        "      return False\n",
        "    return True\n",
        "\n",
        "  while attempts < max_attempts:\n",
        "    password = input(\"Please enter your password: \").strip() # Removed lower() to allow case sensitivity if needed later\n",
        "\n",
        "    if password == correct_password:\n",
        "      print(\"Correct password!\")\n",
        "      return # Exit the function on success\n",
        "\n",
        "    if not policy_check(password):\n",
        "        attempts += 1\n",
        "        attempts_remaining = max_attempts - attempts\n",
        "        if attempts_remaining > 0:\n",
        "            print(f\"Attempts remaining: {attempts_remaining}\")\n",
        "        continue # Ask for password again if policy fails\n",
        "\n",
        "    # If policy check passes but password is incorrect\n",
        "    print(\"Incorrect password. Please try again.\")\n",
        "    attempts += 1\n",
        "    attempts_remaining = max_attempts - attempts\n",
        "    if attempts_remaining > 0:\n",
        "        print(f\"Attempts remaining: {attempts_remaining}\")\n",
        "\n",
        "\n",
        "  if attempts == max_attempts:\n",
        "    print(\"You have reached the maximum number of attempts. Please try again later.\")\n",
        "\n",
        "# Example usage:\n",
        "login_sim(\"password987\", 3)"
      ]
    },
    {
      "cell_type": "markdown",
      "id": "9efbc851",
      "metadata": {
        "id": "9efbc851"
      },
      "source": [
        "\n",
        "## Program 3 — Collatz Analyzer (While + Decisions)\n",
        "\n",
        "**Write:** `collatz_steps(n: int) -> int` that returns the number of steps to reach 1 using the Collatz rules:  \n",
        "- If `n` is even, `n = n // 2`  \n",
        "- Else `n = 3*n + 1`\n",
        "\n",
        "**Then write:** `collatz_report(start: int, stop: int)` that prints the number between `start` and `stop` (inclusive) with the **maximum** steps and the step count.\n",
        "\n",
        "**Requirements:**\n",
        "- Input validation with `try/except` in a wrapper `main()` that reads `start` and `stop` from the user.\n",
        "- Use a **for** loop in `collatz_report`; use a **while** loop in `collatz_steps`.\n",
        "- Use decisions appropriately.\n"
      ]
    },
    {
      "cell_type": "code",
      "execution_count": 29,
      "id": "6e7a622e",
      "metadata": {
        "id": "6e7a622e",
        "colab": {
          "base_uri": "https://localhost:8080/"
        },
        "outputId": "c27ad1ac-2e3a-4830-8aa1-9f49cabe91c9"
      },
      "outputs": [
        {
          "output_type": "stream",
          "name": "stdout",
          "text": [
            "Enter the starting number: 5\n",
            "Enter the ending number: 67\n",
            "Number between 5 and 67 with maximum number: 54, Maximum Steps: 112\n"
          ]
        }
      ],
      "source": [
        "def collatz_steps(n: int) -> int:\n",
        "\n",
        "\n",
        "  \"\"\"\n",
        "  Calculates the number of steps to reach 1 in the Collatz sequence starting from n.\n",
        "\n",
        "  Args:\n",
        "    n: The starting number in the Collatz sequence.\n",
        "\n",
        "  Returns:\n",
        "    The number of steps required to reach 1.\n",
        "  \"\"\"\n",
        "\n",
        "  steps = 0\n",
        "  while n > 1:\n",
        "    if n % 2 == 0:\n",
        "      n = n // 2\n",
        "    else:\n",
        "      n = 3 * n + 1\n",
        "    steps += 1\n",
        "  return steps # Return the number of steps\n",
        "\n",
        "\n",
        "def collatz_report(start: int, stop: int):\n",
        "\n",
        "\n",
        "  \"\"\"\n",
        "  Prints the numbers between start and stop (inclusive) with the maximum steps and the step count.\n",
        "\n",
        "  Args:\n",
        "    start: The starting number.\n",
        "    stop: The ending number.\n",
        "  \"\"\"\n",
        "\n",
        "  max_steps = 0\n",
        "  max_number = None\n",
        "\n",
        "  for n in range(start, stop + 1):\n",
        "    steps = collatz_steps(n)\n",
        "    if steps > max_steps:\n",
        "      max_steps = steps\n",
        "      max_number = n\n",
        "\n",
        "  if max_number is not None:\n",
        "    print(f\"Number between {start} and {stop} with maximum number: {max_number}, Maximum Steps: {max_steps}\")\n",
        "  else:\n",
        "    print(f\"No numbers in the range [{start}, {stop}] to analyze.\")\n",
        "\n",
        "\n",
        "def main():\n",
        "\n",
        "\n",
        "  \"\"\"\n",
        "  Main function to handle user input and call the collatz_report function.\n",
        "  \"\"\"\n",
        "\n",
        "  try:\n",
        "    start = int(input(\"Enter the starting number: \"))\n",
        "    stop = int(input(\"Enter the ending number: \"))\n",
        "    if start <= stop:\n",
        "      collatz_report(start, stop)\n",
        "    else:\n",
        "      print(\"Starting number must be less than or equal to the ending number.\")\n",
        "  except ValueError:\n",
        "    print(\"Invalid input. Please enter valid integers.\")\n",
        "\n",
        "if __name__ == \"__main__\":\n",
        "  main()"
      ]
    },
    {
      "cell_type": "markdown",
      "id": "c2ec00e1",
      "metadata": {
        "id": "c2ec00e1"
      },
      "source": [
        "\n",
        "## Program 4 — Grid Count (Nested Loops + Decisions)\n",
        "\n",
        "**Write:** `count_neighbors(grid: list[list[int]], r: int, c: int) -> int` that counts how many **non-zero** neighbors a cell has in the 8 surrounding positions.\n",
        "\n",
        "**Then:** `live_ratio(grid)` returns the ratio of non-zero cells to total cells.\n",
        "\n",
        "**Requirements:**\n",
        "- Use **nested `for` loops**.\n",
        "- Use decisions to guard bounds and to skip the center cell.\n",
        "- Provide 2–3 `assert` tests.\n"
      ]
    },
    {
      "cell_type": "code",
      "execution_count": null,
      "id": "daf5f519",
      "metadata": {
        "id": "daf5f519"
      },
      "outputs": [],
      "source": [
        "Not required to write this program"
      ]
    },
    {
      "cell_type": "markdown",
      "id": "ecba85ff",
      "metadata": {
        "id": "ecba85ff"
      },
      "source": [
        "\n",
        "## Program 5 — Receipt Parser (While + Try/Except + Decisions)\n",
        "\n",
        "**Write:** `receipt_total()` that repeatedly reads lines like `item,quantity,price` until the user types `'done'`.  \n",
        "- Validate that `quantity` is an integer and `price` is a float.  \n",
        "- Accumulate a subtotal and print a formatted receipt at the end.  \n",
        "- Ignore malformed lines (warn and continue).\n",
        "\n",
        "**Example input:**\n",
        "```\n",
        "apple,2,1.25\n",
        "banana,3,0.60\n",
        "done\n",
        "```\n",
        "**Output end line:**\n",
        "```\n",
        "Items: 2  Units: 5  Subtotal: $3.65\n",
        "```\n"
      ]
    },
    {
      "cell_type": "code",
      "execution_count": 30,
      "id": "a2880a4b",
      "metadata": {
        "id": "a2880a4b",
        "colab": {
          "base_uri": "https://localhost:8080/"
        },
        "outputId": "db6e6f1c-9f15-4287-c593-f2c3c0b5c524"
      },
      "outputs": [
        {
          "output_type": "stream",
          "name": "stdout",
          "text": [
            "Enter item, quantity, and price (or 'done'): apple,3,2.50\n",
            "Enter item, quantity, and price (or 'done'): banana,4,2.30\n",
            "Enter item, quantity, and price (or 'done'): done\n",
            "Items: 2  Units: 7  Subtotal: $16.70\n"
          ]
        }
      ],
      "source": [
        "def receipt_total():\n",
        "\n",
        "\n",
        "  \"\"\"This program reads lines like item, quantity, and price until the user types 'done'.\n",
        "  It then calculates and prints the total items, units, and subtotal.\n",
        "  \"\"\"\n",
        "\n",
        "  subtotal = 0\n",
        "  item_count = 0\n",
        "  unit_count = 0\n",
        "\n",
        "  # the program terminates if the user types done\n",
        "  while True:\n",
        "    line = input(\"Enter item, quantity, and price (or 'done'): \").strip()\n",
        "    if line.lower() == 'done':\n",
        "      break\n",
        "\n",
        "   # validate for correct input format\n",
        "    parts = line.split(',')\n",
        "    if len(parts) != 3:\n",
        "      print(\"Invalid input. Please enter item, quantity, and price separated by commas.\")\n",
        "      continue\n",
        "\n",
        "    # validate input for correct value types\n",
        "    item, quantity_str, price_str = parts\n",
        "    try:\n",
        "      quantity = int(quantity_str)\n",
        "      price = float(price_str)\n",
        "    except ValueError:\n",
        "      print(\"Invalid quantity or price. Please enter valid integers or floats.\")\n",
        "      continue\n",
        "\n",
        "    # calculate output\n",
        "    subtotal += quantity * price  # the subtotal is cumulative\n",
        "    item_count += 1 # the item count is cumulative\n",
        "    unit_count += quantity   # the quantity is cumulative\n",
        "\n",
        "  print(f\"Items: {item_count}  Units: {unit_count}  Subtotal: ${subtotal:.2f}\")\n",
        "\n",
        "# call the function\n",
        "receipt_total()\n",
        "\n",
        "\n",
        "\n"
      ]
    },
    {
      "cell_type": "markdown",
      "id": "96844e4c",
      "metadata": {
        "id": "96844e4c"
      },
      "source": [
        "\n",
        "## Optional Challenge — Prime Gaps (For + Decisions)\n",
        "\n",
        "Write `is_prime(n: int) -> bool` and then `max_gap(a: int, b: int) -> tuple[int,int,int]` that returns `(p, q, gap)` where `p` and `q` are consecutive primes in `[a, b]` with the **largest** gap.\n",
        "\n",
        "- Use **for** loops and decisions; keep it simple and readable.\n",
        "- Add 2–3 `assert` tests.\n"
      ]
    },
    {
      "cell_type": "markdown",
      "id": "4eddd5e9",
      "metadata": {
        "id": "4eddd5e9"
      },
      "source": [
        "\n",
        "## Submission Checklist\n",
        "- [ ] I used `while` and/or `for` appropriately for each task.\n",
        "- [ ] I validated user input with `try/except` where required.\n",
        "- [ ] I used clear names, docstrings, and helpful comments.\n",
        "- [ ] I kept lines ≤ 79–99 chars and used proper whitespace.\n",
        "- [ ] I added a few `assert` tests where appropriate.\n"
      ]
    },
    {
      "cell_type": "markdown",
      "id": "96a91da6",
      "metadata": {
        "id": "96a91da6"
      },
      "source": [
        "\n",
        "## Grading Rubric (25 pts)\n",
        "\n",
        "| Criterion | Points |\n",
        "|---|---:|\n",
        "| Program 1 — Stats loop (correctness + validation + clarity) | 6 |\n",
        "| Program 2 — Password attempts (logic + decisions + clarity) | 5 |\n",
        "| Program 3 — Collatz analyzer (while + for + validation) | 6 |\n",
        "| Program 4 — Grid count (nested loops + tests) | 5 |\n",
        "| Overall PEP 8 style & explanations | 3 |\n"
      ]
    }
  ],
  "metadata": {
    "colab": {
      "provenance": [],
      "include_colab_link": true
    },
    "language_info": {
      "name": "python"
    },
    "kernelspec": {
      "name": "python3",
      "display_name": "Python 3"
    }
  },
  "nbformat": 4,
  "nbformat_minor": 5
}