{
  "cells": [
    {
      "cell_type": "markdown",
      "id": "6e143f87",
      "metadata": {
        "id": "6e143f87"
      },
      "source": [
        "# Intro Loops Mini‑Exam — All Coding (5 Questions)\n",
        "**Topics:** `for`, `while`, `range`, `break`, `continue`, basic `if/else`, optional `try/except`\n",
        "\n",
        "### Rules\n",
        "- Use `range` where helpful.\n",
        "- **Do not use** `enumerate`, list comprehensions, or **nested loops**.\n",
        "- You may use simple `try/except` for input validation where the prompt asks for it.\n",
        "- Keep code clear and commented (brief intent comments are enough).\n",
        "\n",
        "### What to Submit\n",
        "- Complete the five problems below in the provided code cells.\n",
        "- Do **not** modify the problem statements.\n",
        "- Run each cell to ensure it executes (no crashes on valid inputs).\n",
        "\n",
        "### Academic Honesty\n",
        "- Write your own code. Keep solutions simple and readable.\n"
      ]
    },
    {
      "cell_type": "markdown",
      "id": "b26ce537",
      "metadata": {
        "id": "b26ce537"
      },
      "source": [
        "## 1) Count Up (for + range)\n",
        "Ask the user for a **positive integer `n`**. Print the numbers **1..n** on **one line** separated by spaces.\n",
        "- Use a `for` loop with `range`.\n",
        "- If the input isn’t a positive integer, print a friendly error and stop.\n"
      ]
    },
    {
      "cell_type": "code",
      "execution_count": 10,
      "id": "238370a9",
      "metadata": {
        "id": "238370a9",
        "problem": 1,
        "colab": {
          "base_uri": "https://localhost:8080/"
        },
        "outputId": "0fdf3bc5-c627-4f43-a00c-f90c5274658a"
      },
      "outputs": [
        {
          "output_type": "stream",
          "name": "stdout",
          "text": [
            "Enter a positive integer: 8\n",
            "1 2 3 4 5 6 7 8 \n"
          ]
        }
      ],
      "source": [
        "# Write your solution here\n",
        "def count_up():\n",
        "  try:\n",
        "    i = int(input(\"Enter a positive integer: \"))    # asks the user for a positive integer\n",
        "    if i <= 0:    # if they enter a negative number\n",
        "      raise ValueError    # raise a ValueError\n",
        "  except ValueError:\n",
        "    print(\"Invalid input. Please enter a positive integer.\")    # error message\n",
        "    return    # stops the program\n",
        "  for i in range(1, i+1):\n",
        "    print(i, end=\" \")    # prints numbers with spaces\n",
        "  print()\n",
        "\n",
        "count_up()\n"
      ]
    },
    {
      "cell_type": "markdown",
      "id": "2afee823",
      "metadata": {
        "id": "2afee823"
      },
      "source": [
        "## 2) Sum of Squares (for)\n",
        "Ask for a **positive integer `n`**. Compute and print **`1^2 + 2^2 + … + n^2`**.\n",
        "- Use a `for` loop.\n",
        "- Validate input (print an error and stop if invalid).\n"
      ]
    },
    {
      "cell_type": "code",
      "execution_count": 13,
      "id": "0f0ed988",
      "metadata": {
        "id": "0f0ed988",
        "problem": 2,
        "colab": {
          "base_uri": "https://localhost:8080/"
        },
        "outputId": "dacb054f-d360-4ad0-cf20-6f12a5ae76d7"
      },
      "outputs": [
        {
          "output_type": "stream",
          "name": "stdout",
          "text": [
            "Enter a positive integer: 5\n",
            "1 4 9 16 25 \n"
          ]
        }
      ],
      "source": [
        "# Write your solution here\n",
        "def sum_of_squares():\n",
        "  try:\n",
        "    i = int(input(\"Enter a positive integer: \"))\n",
        "    if i <= 0:\n",
        "      raise ValueError\n",
        "  except ValueError:\n",
        "    print(\"Invalid input. Please enter a positive integer.\")\n",
        "    return\n",
        "  for i in range(1, i+1):\n",
        "    print(i**2, end=\" \")\n",
        "  print()\n",
        "sum_of_squares()\n",
        ""
      ]
    },
    {
      "cell_type": "markdown",
      "id": "13dd0fd1",
      "metadata": {
        "id": "13dd0fd1"
      },
      "source": [
        "## 3) Min/Max with “done” (while + try/except)\n",
        "Repeatedly read integers until the user types **`done`**. Ignore invalid entries with a warning.\n",
        "At the end:\n",
        "- If at least one valid number was entered, print `min = ___, max = ___`.\n",
        "- Otherwise print `No numbers entered.`\n",
        "- Use a `while True:` loop and `break` on `'done'`.\n"
      ]
    },
    {
      "cell_type": "code",
      "execution_count": 20,
      "id": "e8afc3b3",
      "metadata": {
        "id": "e8afc3b3",
        "problem": 3,
        "colab": {
          "base_uri": "https://localhost:8080/"
        },
        "outputId": "04535f18-981a-4624-aa3d-3545878382ab"
      },
      "outputs": [
        {
          "output_type": "stream",
          "name": "stdout",
          "text": [
            "Enter a number: .6\n",
            "Invalid input. Please enter a number or type 'done'.\n",
            "Enter a number: done\n",
            "No numbers entered.\n"
          ]
        }
      ],
      "source": [
        "# Write your solution here\n",
        "def min_max():\n",
        "  min_val = None\n",
        "  max_val = None\n",
        "  while True:\n",
        "    i = input(\"Enter a number: \")\n",
        "    if i == \"done\":\n",
        "      break\n",
        "    try:\n",
        "      num = int(i)\n",
        "    except ValueError:\n",
        "      print(\"Invalid input. Please enter a number or type 'done'.\")\n",
        "      continue\n",
        "\n",
        "    if min_val is None or num < min_val:\n",
        "      min_val = num\n",
        "    if max_val is None or num > max_val:\n",
        "      max_val = num\n",
        "\n",
        "  if min_val is None and max_val is None:\n",
        "    print(\"No numbers entered.\")\n",
        "  else:\n",
        "    print(\"min =\", min_val, \", max =\", max_val)\n",
        "\n",
        "min_max()"
      ]
    },
    {
      "cell_type": "markdown",
      "id": "950eed12",
      "metadata": {
        "id": "950eed12"
      },
      "source": [
        "## 4) Skip & Stop (for + continue/break)\n",
        "Ask for a **positive integer `n`** (upper bound).\n",
        "- Loop from **1..n**.\n",
        "- **Skip** (do not print) numbers that are multiples of **4** using `continue`.\n",
        "- If you reach **42**, **print 42 and then stop** the loop using `break`.\n",
        "- Each printed number goes on its own line.\n",
        "- Validate input; print an error and stop if invalid.\n"
      ]
    },
    {
      "cell_type": "code",
      "execution_count": 25,
      "id": "cfd13035",
      "metadata": {
        "id": "cfd13035",
        "problem": 4,
        "colab": {
          "base_uri": "https://localhost:8080/"
        },
        "outputId": "0f9933c5-49b3-4f4b-f043-058d4ea63e86"
      },
      "outputs": [
        {
          "output_type": "stream",
          "name": "stdout",
          "text": [
            "Enter a positive integer: 7\n",
            "1\n",
            "2\n",
            "3\n",
            "5\n",
            "6\n",
            "7\n"
          ]
        }
      ],
      "source": [
        "# Write your solution here\n",
        "def skip_stop():\n",
        "  try:\n",
        "    i = int(input(\"Enter a positive integer: \"))\n",
        "    if i <= 0:\n",
        "      raise ValueError\n",
        "  except ValueError:\n",
        "    print(\"Invalid input. Please enter a positive integer.\")\n",
        "  for i in range(1, i+1):\n",
        "    if i % 4 == 0:\n",
        "      continue\n",
        "    if i == 42:\n",
        "      print(i)\n",
        "      break\n",
        "    print(i)\n",
        "skip_stop()\n"
      ]
    },
    {
      "cell_type": "markdown",
      "id": "34d640d5",
      "metadata": {
        "id": "34d640d5"
      },
      "source": [
        "## 5) Even Sum with Entry Limit (while + try/except)\n",
        "Ask for a **target count `k`** (how many entries to read). Then read up to `k` user inputs (one per loop).\n",
        "- Convert each to `int` with `try/except`.\n",
        "- Keep a running **sum of even numbers only** (ignore odds and invalid entries).\n",
        "- After `k` inputs, print `even_sum = ___, valid_evens = ___`.\n",
        "- If `k` isn’t a positive integer, print an error and stop.\n"
      ]
    },
    {
      "cell_type": "code",
      "execution_count": 22,
      "id": "a7717a90",
      "metadata": {
        "id": "a7717a90",
        "problem": 5
      },
      "outputs": [],
      "source": [
        "# Write your solution here\n",
        "\n"
      ]
    },
    {
      "cell_type": "markdown",
      "source": [
        "## 6)  How long did you work on this quiz ? Was this quiz : hard, easy, just right ?"
      ],
      "metadata": {
        "id": "m9THXy-oU-Ud"
      },
      "id": "m9THXy-oU-Ud"
    },
    {
      "cell_type": "markdown",
      "source": [
        "Answer here :"
      ],
      "metadata": {
        "id": "IzQbO93tVKDv"
      },
      "id": "IzQbO93tVKDv"
    }
  ],
  "metadata": {
    "kernelspec": {
      "display_name": "Python 3",
      "language": "python",
      "name": "python3"
    },
    "language_info": {
      "name": "python"
    },
    "colab": {
      "provenance": []
    }
  },
  "nbformat": 4,
  "nbformat_minor": 5
}