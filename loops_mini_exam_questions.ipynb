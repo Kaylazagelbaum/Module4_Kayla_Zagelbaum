{
  "cells": [
    {
      "cell_type": "markdown",
      "id": "6e143f87",
      "metadata": {
        "id": "6e143f87"
      },
      "source": [
        "# Intro Loops Mini‑Exam — All Coding (5 Questions)\n",
        "**Topics:** `for`, `while`, `range`, `break`, `continue`, basic `if/else`, optional `try/except`\n",
        "\n",
        "### Rules\n",
        "- Use `range` where helpful.\n",
        "- **Do not use** `enumerate`, list comprehensions, or **nested loops**.\n",
        "- You may use simple `try/except` for input validation where the prompt asks for it.\n",
        "- Keep code clear and commented (brief intent comments are enough).\n",
        "\n",
        "### What to Submit\n",
        "- Complete the five problems below in the provided code cells.\n",
        "- Do **not** modify the problem statements.\n",
        "- Run each cell to ensure it executes (no crashes on valid inputs).\n",
        "\n",
        "### Academic Honesty\n",
        "- Write your own code. Keep solutions simple and readable.\n"
      ]
    },
    {
      "cell_type": "markdown",
      "id": "b26ce537",
      "metadata": {
        "id": "b26ce537"
      },
      "source": [
        "## 1) Count Up (for + range)\n",
        "Ask the user for a **positive integer `n`**. Print the numbers **1..n** on **one line** separated by spaces.\n",
        "- Use a `for` loop with `range`.\n",
        "- If the input isn’t a positive integer, print a friendly error and stop.\n"
      ]
    },
    {
      "cell_type": "code",
      "execution_count": 10,
      "id": "238370a9",
      "metadata": {
        "id": "238370a9",
        "problem": 1,
        "colab": {
          "base_uri": "https://localhost:8080/"
        },
        "outputId": "0fdf3bc5-c627-4f43-a00c-f90c5274658a"
      },
      "outputs": [
        {
          "output_type": "stream",
          "name": "stdout",
          "text": [
            "Enter a positive integer: 8\n",
            "1 2 3 4 5 6 7 8 \n"
          ]
        }
      ],
      "source": [
        "# Write your solution here\n",
        "def count_up():\n",
        "\n",
        "\n",
        "# validate inputs for positive integers\n",
        "  try:\n",
        "    i = int(input(\"Enter a positive integer: \"))\n",
        "    if i <= 0:    # if they enter a negative number\n",
        "      raise ValueError\n",
        "  except ValueError:\n",
        "    print(\"Invalid input. Please enter a positive integer.\")    # error message\n",
        "    return    # stops the program\n",
        "\n",
        "# prints the number from 1 to n in a line with spaces\n",
        "  for i in range(1, i+1):\n",
        "    print(i, end=\" \")\n",
        "  print()\n",
        "\n",
        "# calls the program\n",
        "count_up()\n"
      ]
    },
    {
      "cell_type": "markdown",
      "id": "2afee823",
      "metadata": {
        "id": "2afee823"
      },
      "source": [
        "## 2) Sum of Squares (for)\n",
        "Ask for a **positive integer `n`**. Compute and print **`1^2 + 2^2 + … + n^2`**.\n",
        "- Use a `for` loop.\n",
        "- Validate input (print an error and stop if invalid).\n"
      ]
    },
    {
      "cell_type": "code",
      "execution_count": 13,
      "id": "0f0ed988",
      "metadata": {
        "id": "0f0ed988",
        "problem": 2,
        "colab": {
          "base_uri": "https://localhost:8080/"
        },
        "outputId": "dacb054f-d360-4ad0-cf20-6f12a5ae76d7"
      },
      "outputs": [
        {
          "output_type": "stream",
          "name": "stdout",
          "text": [
            "Enter a positive integer: 5\n",
            "1 4 9 16 25 \n"
          ]
        }
      ],
      "source": [
        "# Write your solution here\n",
        "def sum_of_squares():\n",
        "\n",
        "\n",
        "# validate inputs for positive integers\n",
        "  try:\n",
        "    i = int(input(\"Enter a positive integer: \"))\n",
        "    if i <= 0:\n",
        "      raise ValueError\n",
        "  except ValueError:\n",
        "    print(\"Invalid input. Please enter a positive integer.\")\n",
        "    return    # stops the program\n",
        "\n",
        " # computes and prints numbers in the range\n",
        "  for i in range(1, i+1):\n",
        "    print(i**2, end=\" \")\n",
        "  print()\n",
        "\n",
        "# calls the program\n",
        "sum_of_squares()\n",
        ""
      ]
    },
    {
      "cell_type": "markdown",
      "id": "13dd0fd1",
      "metadata": {
        "id": "13dd0fd1"
      },
      "source": [
        "## 3) Min/Max with “done” (while + try/except)\n",
        "Repeatedly read integers until the user types **`done`**. Ignore invalid entries with a warning.\n",
        "At the end:\n",
        "- If at least one valid number was entered, print `min = ___, max = ___`.\n",
        "- Otherwise print `No numbers entered.`\n",
        "- Use a `while True:` loop and `break` on `'done'`.\n"
      ]
    },
    {
      "cell_type": "code",
      "execution_count": 32,
      "id": "e8afc3b3",
      "metadata": {
        "id": "e8afc3b3",
        "problem": 3,
        "colab": {
          "base_uri": "https://localhost:8080/"
        },
        "outputId": "f7e89425-b3d6-4e3b-99a4-a3500ad3a69a"
      },
      "outputs": [
        {
          "output_type": "stream",
          "name": "stdout",
          "text": [
            "Enter a number: 6\n",
            "Enter a number: 5\n",
            "Enter a number: 8\n",
            "Enter a number: 2\n",
            "Enter a number: done\n",
            "min = 2 , max = 8\n"
          ]
        }
      ],
      "source": [
        "# Write your solution here\n",
        "def min_max():\n",
        "\n",
        "\n",
        "  # sets initial min and max to none\n",
        "  min_val = None\n",
        "  max_val = None\n",
        "\n",
        "  # validates input and starts the loop\n",
        "  while True:\n",
        "    i = input(\"Enter a number, type done to exit: \")\n",
        "    if i == \"done\":    # establishes sentry for exit\n",
        "      break\n",
        "    try:\n",
        "      num = int(i)\n",
        "    except ValueError:\n",
        "      print(\"Invalid input. Please enter a number or type 'done'.\")\n",
        "      continue\n",
        "\n",
        "  # within the loop it evaluates the minimum and maximum values\n",
        "    if min_val is None or num < min_val:\n",
        "      min_val = num\n",
        "    if max_val is None or num > max_val:\n",
        "      max_val = num\n",
        "\n",
        "  # prints final result\n",
        "  if min_val is None and max_val is None:\n",
        "    print(\"No numbers entered.\")\n",
        "  else:\n",
        "    print(\"min =\", min_val, \", max =\", max_val)\n",
        "\n",
        "# calls the program\n",
        "min_max()"
      ]
    },
    {
      "cell_type": "markdown",
      "id": "950eed12",
      "metadata": {
        "id": "950eed12"
      },
      "source": [
        "## 4) Skip & Stop (for + continue/break)\n",
        "Ask for a **positive integer `n`** (upper bound).\n",
        "- Loop from **1..n**.\n",
        "- **Skip** (do not print) numbers that are multiples of **4** using `continue`.\n",
        "- If you reach **42**, **print 42 and then stop** the loop using `break`.\n",
        "- Each printed number goes on its own line.\n",
        "- Validate input; print an error and stop if invalid.\n"
      ]
    },
    {
      "cell_type": "code",
      "execution_count": 33,
      "id": "cfd13035",
      "metadata": {
        "id": "cfd13035",
        "problem": 4,
        "colab": {
          "base_uri": "https://localhost:8080/"
        },
        "outputId": "7902fe72-d0bd-4813-aa5d-54aad6bc2460"
      },
      "outputs": [
        {
          "output_type": "stream",
          "name": "stdout",
          "text": [
            "Enter a positive integer: 42\n",
            "1\n",
            "2\n",
            "3\n",
            "5\n",
            "6\n",
            "7\n",
            "9\n",
            "10\n",
            "11\n",
            "13\n",
            "14\n",
            "15\n",
            "17\n",
            "18\n",
            "19\n",
            "21\n",
            "22\n",
            "23\n",
            "25\n",
            "26\n",
            "27\n",
            "29\n",
            "30\n",
            "31\n",
            "33\n",
            "34\n",
            "35\n",
            "37\n",
            "38\n",
            "39\n",
            "41\n",
            "42\n"
          ]
        }
      ],
      "source": [
        "# Write your solution here\n",
        "def skip_stop():\n",
        "\n",
        "\n",
        "  # validates inputs for positive integers\n",
        "  try:\n",
        "    i = int(input(\"Enter a positive integer: \"))\n",
        "    if i <= 0:\n",
        "      raise ValueError\n",
        "  except ValueError:\n",
        "    print(\"Invalid input. Please enter a positive integer.\")\n",
        "    return\n",
        "\n",
        "  # calculates response\n",
        "  for i in range(1, i+1):\n",
        "    if i % 4 == 0:    # skips multiples of 4\n",
        "      continue\n",
        "    if i == 42:    # limits program to 42 and stops\n",
        "      print(i)\n",
        "      break\n",
        "    print(i)\n",
        "\n",
        "# calls program\n",
        "skip_stop()\n"
      ]
    },
    {
      "cell_type": "markdown",
      "id": "34d640d5",
      "metadata": {
        "id": "34d640d5"
      },
      "source": [
        "## 5) Even Sum with Entry Limit (while + try/except)\n",
        "Ask for a **target count `k`** (how many entries to read). Then read up to `k` user inputs (one per loop).\n",
        "- Convert each to `int` with `try/except`.\n",
        "- Keep a running **sum of even numbers only** (ignore odds and invalid entries).\n",
        "- After `k` inputs, print `even_sum = ___, valid_evens = ___`.\n",
        "- If `k` isn’t a positive integer, print an error and stop.\n"
      ]
    },
    {
      "cell_type": "code",
      "execution_count": 29,
      "id": "a7717a90",
      "metadata": {
        "id": "a7717a90",
        "problem": 5,
        "colab": {
          "base_uri": "https://localhost:8080/"
        },
        "outputId": "6e2ba575-1ba0-4263-9b6b-953ba26e8bc8"
      },
      "outputs": [
        {
          "output_type": "stream",
          "name": "stdout",
          "text": [
            "How many inputs? 2\n",
            "Enter a number: 54\n",
            "Enter a number: 62\n",
            "even_sum = 116 , valid_evens = 2\n"
          ]
        }
      ],
      "source": [
        "# Write your solution here\n",
        "def entry_limit():\n",
        "\n",
        "\n",
        "# evaluates input for positive integers\n",
        "# asks for the range of k\n",
        "  try:\n",
        "    k = int(input(\"How many inputs? \"))\n",
        "    if k <= 0:\n",
        "      raise ValueError\n",
        "  except ValueError:\n",
        "    print(\"Invalid input. Please enter a positive integer.\")\n",
        "    return\n",
        "\n",
        "  # set initial values to 0\n",
        "  even_sum = 0\n",
        "  valid_evens = 0\n",
        "\n",
        " # for the range given by the user:\n",
        " # ask for numbers\n",
        " # keep a running sum of even numbers and a count of how many valid evens there are\n",
        "  for i in range(k):\n",
        "    try:\n",
        "      num = int(input(\"Enter a number: \"))\n",
        "      if num % 2 == 0:    # checks for even numbers\n",
        "        even_sum += num\n",
        "        valid_evens += 1\n",
        "    except ValueError:\n",
        "      print(\"Invalid input. Please enter a number.\")\n",
        "      continue\n",
        "\n",
        "  print(\"even_sum =\", even_sum, \", valid_evens =\", valid_evens)\n",
        "\n",
        "# calls program\n",
        "entry_limit()"
      ]
    },
    {
      "cell_type": "markdown",
      "source": [
        "## 6)  How long did you work on this quiz ? Was this quiz : hard, easy, just right ?"
      ],
      "metadata": {
        "id": "m9THXy-oU-Ud"
      },
      "id": "m9THXy-oU-Ud"
    },
    {
      "cell_type": "markdown",
      "source": [
        "Answer here : The quiz took me 45 minutes. I appreciated not having a time limit. I thought it was very fair. Thank you."
      ],
      "metadata": {
        "id": "IzQbO93tVKDv"
      },
      "id": "IzQbO93tVKDv"
    }
  ],
  "metadata": {
    "kernelspec": {
      "display_name": "Python 3",
      "language": "python",
      "name": "python3"
    },
    "language_info": {
      "name": "python"
    },
    "colab": {
      "provenance": []
    }
  },
  "nbformat": 4,
  "nbformat_minor": 5
}